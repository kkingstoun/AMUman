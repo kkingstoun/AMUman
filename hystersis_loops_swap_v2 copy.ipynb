{
 "cells": [
  {
   "cell_type": "code",
   "execution_count": 1,
   "metadata": {},
   "outputs": [
    {
     "data": {
      "text/html": [
       "<style>\n",
       "                .cell-output-ipywidget-background {\n",
       "                    background-color: transparent !important;\n",
       "                }\n",
       "                .jupyter-matplotlib-footer {\n",
       "                    color: white !important;\n",
       "                }\n",
       "               </style>"
      ],
      "text/plain": [
       "<IPython.core.display.HTML object>"
      ]
     },
     "metadata": {},
     "output_type": "display_data"
    }
   ],
   "source": [
    "import matplotlib.pyplot as plt\n",
    "from ipywidgets import interact, widgets\n",
    "import matplotlib as mpl\n",
    "import numpy as np\n",
    "# import cmocean\n",
    "from glob import glob\n",
    "import os\n",
    "from tqdm.notebook import tqdm, trange\n",
    "import shutil\n",
    "import pyfftw\n",
    "import peakutils\n",
    "import multiprocessing as mp\n",
    "import time\n",
    "import cv2\n",
    "from pyzfn import Pyzfn as op\n",
    "from pyzfn import utils\n",
    "import re\n",
    "from pathlib import Path\n",
    "from concurrent.futures import ThreadPoolExecutor\n",
    "utils.load_mpl_style(skip_style=False)\n",
    "import pandas as pd\n",
    "import matplotlib.pyplot as plt\n",
    "from multiprocessing import Pool\n",
    "from tqdm import tqdm"
   ]
  },
  {
   "cell_type": "code",
   "execution_count": null,
   "metadata": {},
   "outputs": [],
   "source": [
    "!pip install cmocean"
   ]
  },
  {
   "cell_type": "code",
   "execution_count": null,
   "metadata": {
    "vscode": {
     "languageId": "shellscript"
    }
   },
   "outputs": [],
   "source": [
    "path=\"/home/users/kkingstoun/grant_398/scratch/mateuszz/ReCoPt/systematic/v4\""
   ]
  },
  {
   "cell_type": "code",
   "execution_count": 2,
   "metadata": {},
   "outputs": [],
   "source": [
    "class pp:\n",
    "    def __init__(self, root_path):\n",
    "        self.root_path = Path(root_path)\n",
    "        self.folder_list = None\n",
    "\n",
    "    def _is_zarr_folder(self, path):\n",
    "        return path.is_dir() and path.name.endswith('.zarr')\n",
    "\n",
    "    def find_zarr_folders(self):\n",
    "        zarr_folders = []\n",
    "        with ThreadPoolExecutor(max_workers=10) as executor:  # Ograniczamy liczbę wątków\n",
    "            futures = {executor.submit(self._is_zarr_folder, path): path for path in self.root_path.rglob('*')}\n",
    "            for future in futures:\n",
    "                if future.result():\n",
    "                    zarr_folders.append(str(futures[future]))\n",
    "\n",
    "        self.folder_list = sorted(zarr_folders)\n",
    "        return self.folder_list\n"
   ]
  },
  {
   "cell_type": "code",
   "execution_count": null,
   "metadata": {
    "vscode": {
     "languageId": "shellscript"
    }
   },
   "outputs": [],
   "source": [
    "p = pp(path)\n",
    "zarr_folders = p.find_zarr_folders()"
   ]
  },
  {
   "cell_type": "code",
   "execution_count": null,
   "metadata": {
    "vscode": {
     "languageId": "shellscript"
    }
   },
   "outputs": [],
   "source": [
    "job = op(p.folder_list[220])"
   ]
  },
  {
   "cell_type": "code",
   "execution_count": null,
   "metadata": {
    "vscode": {
     "languageId": "shellscript"
    }
   },
   "outputs": [],
   "source": [
    "mz = job.table.mz[:]"
   ]
  },
  {
   "cell_type": "code",
   "execution_count": null,
   "metadata": {
    "vscode": {
     "languageId": "shellscript"
    }
   },
   "outputs": [],
   "source": [
    "job.table.B_extz"
   ]
  },
  {
   "cell_type": "code",
   "execution_count": null,
   "metadata": {
    "vscode": {
     "languageId": "shellscript"
    }
   },
   "outputs": [],
   "source": [
    "b_extz = job.table.B_extz[:]"
   ]
  },
  {
   "cell_type": "code",
   "execution_count": null,
   "metadata": {
    "vscode": {
     "languageId": "shellscript"
    }
   },
   "outputs": [],
   "source": [
    "plt.figure()\n",
    "plt.plot(b_extz,mz[::])\n",
    "\n",
    "# plt.plot(mz[::])\n",
    "plt.plot(b_extz[::1500],mz[::1500])"
   ]
  },
  {
   "cell_type": "code",
   "execution_count": null,
   "metadata": {
    "vscode": {
     "languageId": "shellscript"
    }
   },
   "outputs": [],
   "source": [
    "data = np.genfromtxt(\"./jobs/mateusz/hystersisis/out_of_plane.dat\",delimiter=\"\\t\",skip_header=0)\n",
    "print(data[:,0])"
   ]
  },
  {
   "cell_type": "code",
   "execution_count": 3,
   "metadata": {},
   "outputs": [
    {
     "ename": "NameError",
     "evalue": "name 'zarr_folders' is not defined",
     "output_type": "error",
     "traceback": [
      "\u001b[0;31m---------------------------------------------------------------------------\u001b[0m",
      "\u001b[0;31mNameError\u001b[0m                                 Traceback (most recent call last)",
      "Cell \u001b[0;32mIn[3], line 19\u001b[0m\n\u001b[1;32m     15\u001b[0m             params[\u001b[39m'\u001b[39m\u001b[39msim\u001b[39m\u001b[39m'\u001b[39m] \u001b[39m=\u001b[39m \u001b[39mint\u001b[39m(folder_name\u001b[39m.\u001b[39msplit(\u001b[39m\"\u001b[39m\u001b[39m_ku\u001b[39m\u001b[39m\"\u001b[39m)[\u001b[39m0\u001b[39m]\u001b[39m.\u001b[39msplit(\u001b[39m\"\u001b[39m\u001b[39msim_\u001b[39m\u001b[39m\"\u001b[39m)[\u001b[39m-\u001b[39m\u001b[39m1\u001b[39m])\n\u001b[1;32m     17\u001b[0m     \u001b[39mreturn\u001b[39;00m params\n\u001b[0;32m---> 19\u001b[0m _extract_params(zarr_folders[\u001b[39m0\u001b[39m])\n",
      "\u001b[0;31mNameError\u001b[0m: name 'zarr_folders' is not defined"
     ]
    }
   ],
   "source": [
    "def _extract_params(folder_path):\n",
    "    folder_name = Path(folder_path.split(\"/\")[-1]).name  # Używamy tylko ostatniej części ścieżki\n",
    "    params = {}\n",
    "\n",
    "    # Ekstrakcja parametrów z nazwy pliku (ostatniego elementu ścieżki)\n",
    "    file_params = folder_name.rstrip('.zarr').split('_')\n",
    "    for param in file_params:\n",
    "        if ':' in param:\n",
    "            key, value = param.split(':', 1)\n",
    "            try:\n",
    "                params[key] = float(value) if '.' in value or 'e' in value.lower() else int(value)\n",
    "            except ValueError:\n",
    "                params[key] = value\n",
    "        elif param.startswith('sim'):\n",
    "            params['sim'] = int(folder_name.split(\"_ku\")[0].split(\"sim_\")[-1])\n",
    "\n",
    "    return params\n",
    "\n",
    "_extract_params(zarr_folders[0])\n"
   ]
  },
  {
   "cell_type": "code",
   "execution_count": null,
   "metadata": {},
   "outputs": [],
   "source": [
    "class HysteresisData:\n",
    "    def __init__(self, zarr_folders=None, data_file=None):\n",
    "        if data_file:\n",
    "            self.data = pd.read_csv(data_file)\n",
    "        elif zarr_folders:\n",
    "            self.data = self._load_data_from_folders_parallel(zarr_folders)\n",
    "        else:\n",
    "            raise ValueError(\"Either zarr_folders or data_file must be provided\")\n",
    "        self.current_index = 0\n",
    "\n",
    "    def plot_hysteresis(self, sim_number):\n",
    "        # Filtruj dane dla wybranego numeru symulacji\n",
    "        subset = self.data[self.data['sim_number'] == sim_number]\n",
    "\n",
    "        # Tworzenie wykresu\n",
    "        plt.figure(figsize=(8, 6))\n",
    "        plt.plot(subset['B_extz'], subset['mz'])\n",
    "        plt.xlabel('B_extz')\n",
    "        plt.ylabel('mz')\n",
    "        plt.title(f'Hysteresis for simulation number: {sim_number}')\n",
    "        plt.show()\n",
    "\n",
    "    def update_plot(self, direction):\n",
    "        self.current_index += direction\n",
    "        self.current_index = max(0, min(self.current_index, self.data['sim_number'].max()))\n",
    "        self.plot_hysteresis(self.data['sim_number'].unique()[self.current_index])\n",
    "\n",
    "    def interactive_plot(self):\n",
    "        interact(self.update_plot, direction=widgets.IntSlider(min=-1, max=1, step=1, value=0))\n",
    "\n",
    "\n",
    "    def _load_data_from_single_folder(self, folder):\n",
    "            # Tutaj wczytanie danych z pojedynczego folderu .zarr\n",
    "            # Implementacja zależy od struktury danych i formatu plików\n",
    "            # Przykład:\n",
    "            \n",
    "            try:\n",
    "                job = op(folder)\n",
    "                mz = job.table.mz[:]\n",
    "                b_extz = job.table.B_extz[:]\n",
    "                if len(mz)>1:\n",
    "                    # Ekstrakcja parametrów\n",
    "                    params = _extract_params(folder)\n",
    "                    # print(folder)\n",
    "                    # Tworzenie DataFrame z danych\n",
    "                    folder_data = pd.DataFrame({'sim_number': params['sim'], 'KU': params['ku'], 'Aex': params['aex'], 'DMI': params['dind'], \n",
    "                                                'Msat': params['msat'], \n",
    "                                                'B_extz': b_extz, 'mz': mz})\n",
    "                    return folder_data\n",
    "            except:\n",
    "                pass\n",
    "\n",
    "    def _load_data_from_folders_parallel(self, zarr_folders):\n",
    "        with Pool(processes=4) as pool:\n",
    "            # Opakowanie listy folderów w tqdm dla paska postępu\n",
    "            results = list(tqdm(pool.imap(self._load_data_from_single_folder, zarr_folders), \n",
    "                                total=len(zarr_folders)))\n",
    "        return pd.concat(results, ignore_index=True)\n",
    "    \n",
    "    def save_to_csv(self, file_name):\n",
    "        self.data.to_csv(file_name, index=False)\n",
    "\n",
    "    def plot_hysteresis(self, KU, Aex, DMI):\n",
    "        subset = self.data[(self.data['KU'] == KU) & (self.data['Aex'] == Aex) & (self.data['DMI'] == DMI)]\n",
    "        plt.plot(subset['B_extz'], subset['mz'])\n",
    "        plt.xlabel('B_extz')\n",
    "        plt.ylabel('mz')\n",
    "        plt.title(f'Hysteresis for KU: {KU}, Aex: {Aex}, DMI: {DMI}')\n",
    "        plt.show()\n",
    "\n",
    "\n",
    "# data = HysteresisData(zarr_folders)\n",
    "# data = HysteresisData(data_file='hysteresis_data.csv')\n",
    "\n",
    "# data.save_to_csv('./hysteresis_data.csv')\n",
    "\n",
    "# Zapis danych do pliku CSV\n"
   ]
  },
  {
   "cell_type": "code",
   "execution_count": 4,
   "metadata": {},
   "outputs": [
    {
     "ename": "NameError",
     "evalue": "name 'data' is not defined",
     "output_type": "error",
     "traceback": [
      "\u001b[0;31m---------------------------------------------------------------------------\u001b[0m",
      "\u001b[0;31mNameError\u001b[0m                                 Traceback (most recent call last)",
      "Cell \u001b[0;32mIn[4], line 1\u001b[0m\n\u001b[0;32m----> 1\u001b[0m data\u001b[39m.\u001b[39mdata[\u001b[39m'\u001b[39m\u001b[39msim_number\u001b[39m\u001b[39m'\u001b[39m]\u001b[39m.\u001b[39mmax()\n",
      "\u001b[0;31mNameError\u001b[0m: name 'data' is not defined"
     ]
    }
   ],
   "source": [
    "data.data['sim_number'].max()"
   ]
  },
  {
   "cell_type": "code",
   "execution_count": 5,
   "metadata": {},
   "outputs": [],
   "source": [
    "import matplotlib.pyplot as plt\n",
    "from ipywidgets import interact, widgets\n",
    "import numpy as np\n",
    "from matplotlib.offsetbox import AnchoredText"
   ]
  },
  {
   "cell_type": "code",
   "execution_count": 6,
   "metadata": {},
   "outputs": [],
   "source": [
    "class HysteresisPlotter:\n",
    "    def __init__(self, data, exdata):\n",
    "        self.data = data\n",
    "        self.exdata = exdata\n",
    "        self.current_index = 0\n",
    "        self.fig, self.ax = plt.subplots(figsize=(8, 6))\n",
    "\n",
    "        self.t1 =self.ax.text(0.1, 0.0, \"ABECADLO \", verticalalignment='center', horizontalalignment='left')\n",
    "        # Aktualizacja parametrów w ramce\n",
    "        # self.anch = anchored_text = AnchoredText(\"Test\", loc=2)\n",
    "        # self.ax.add_artist(anchored_text)\n",
    "        # self.anch.set()\n",
    "        self.plot_hysteresis(0)\n",
    "        self.plot_extra_data()  # Rysowanie stałego wykresu\n",
    "\n",
    "    def plot_extra_data(self):\n",
    "        # Rysowanie dodatkowego wykresu\n",
    "        y = self.exdata[:,1] / self.exdata[:,1].max()\n",
    "        self.ax.plot(self.exdata[:,0], y, label='Experiment out-of-plane')\n",
    "\n",
    "    def plot_hysteresis(self, sim_number):\n",
    "        # Filtruj dane dla wybranego numeru symulacji\n",
    "        subset = self.data[self.data['sim_number'] == sim_number]\n",
    "\n",
    "        # Tworzenie wykresu histerezy\n",
    "        self.plot1, = self.ax.plot(subset['B_extz'][::], subset['mz'][::], label='Simulations')\n",
    "        self.ax.set_xlabel('B_extz')\n",
    "        self.ax.set_ylabel('mz')\n",
    "                \n",
    "        # Rysowanie ponownie stałego wykresu\n",
    "        self.plot_extra_data()\n",
    "\n",
    "        # Dodanie legendy\n",
    "        self.ax.legend()\n",
    "\n",
    "        # Aktualizacja parametrów w ramce\n",
    "        self.update_params_inset(subset)\n",
    "\n",
    "        # Wyświetlanie wykresu\n",
    "        self.fig.canvas.draw()\n",
    "\n",
    "    def update_params_inset(self, subset):\n",
    "        # Dodanie parametrów do ramki\n",
    "        try:\n",
    "            params_text = '\\n'.join([f'{key}: {round(value,14)}' for key, value in list(subset.iloc[0].to_dict().items())[:-2]])\n",
    "            self.t1.set_text(params_text)\n",
    "        except:\n",
    "            self.t1.set_text(\"\")\n",
    "        # self.inset.text(0, 0.5, params_text, verticalalignment='center', horizontalalignment='left')\n",
    "\n",
    "    def update_plot(self, direction):\n",
    "        subset = self.data[self.data['sim_number'] == direction]\n",
    "        self.plot1.set_ydata(subset['mz'][::])\n",
    "        self.plot1.set_xdata(subset['B_extz'][::])\n",
    "\n",
    "        # Aktualizacja parametrów w ramce\n",
    "        self.update_params_inset(subset)\n",
    "\n",
    "        self.fig.canvas.draw()\n",
    "        self.fig.canvas.flush_events()\n",
    "        \n",
    "    def save_all_figs(self):\n",
    "        for i in tqdm(range(self.data['sim_number'].max())[4:]):\n",
    "            self.update_plot(i)\n",
    "            plt.savefig(f\"./results2/{i}.png\")\n",
    "\n",
    "    def interactive_plot(self):\n",
    "        interact(self.update_plot, direction=widgets.IntSlider(min=0, max=self.data['sim_number'].max(), step=1, value=0))\n",
    "\n",
    "# exdata = np.genfromtxt(\"./out_of_plane.dat\",delimiter=\"\\t\",skip_header=0)\n",
    "# print(exdata.shape)\n",
    "\n",
    "# plotter = HysteresisPlotter(data.data, exdata)\n",
    "# # plotter.interactive_plot()\n",
    "# plotter.save_all_figs()\n"
   ]
  },
  {
   "cell_type": "code",
   "execution_count": null,
   "metadata": {},
   "outputs": [],
   "source": [
    "if  -0.9788139934630561 < -0.93:\n",
    "    print(\"ok\")"
   ]
  },
  {
   "cell_type": "code",
   "execution_count": null,
   "metadata": {},
   "outputs": [],
   "source": [
    "selecte = [73,115,119,127,131,137,146,182,227,242,245,292]\n",
    "import shutil\n",
    "\n",
    "for i in selecte:\n",
    "    \n",
    "    shutil.copyfile(f\"./results2/{i}.png\", f\"./results2/selected/{i}.png\")\n"
   ]
  },
  {
   "cell_type": "code",
   "execution_count": null,
   "metadata": {
    "vscode": {
     "languageId": "shellscript"
    }
   },
   "outputs": [],
   "source": [
    "exdata[:,0]"
   ]
  },
  {
   "cell_type": "code",
   "execution_count": null,
   "metadata": {
    "vscode": {
     "languageId": "shellscript"
    }
   },
   "outputs": [],
   "source": [
    "plt.figure()\n",
    "plt.plot(exdata[:,0],exdata[:,1])\n",
    "\n",
    "t2 = plt.text(0, -1, r'Hello, world!', fontsize=15)\n",
    "t2.set_text(\"sadsad\")"
   ]
  },
  {
   "cell_type": "code",
   "execution_count": null,
   "metadata": {
    "vscode": {
     "languageId": "shellscript"
    }
   },
   "outputs": [],
   "source": [
    "plotter = HysteresisPlotter(data)\n",
    "plotter.interactive_plot()"
   ]
  },
  {
   "cell_type": "code",
   "execution_count": null,
   "metadata": {
    "vscode": {
     "languageId": "shellscript"
    }
   },
   "outputs": [],
   "source": [
    "# Użycie:\n",
    "p = pp(\"/mnt/storage_2/scratch/grant_398/mateuszz/ReCoPt/systematic/v6_new_script/v8/\")\n",
    "zarr_folders = p.find_zarr_folders()"
   ]
  },
  {
   "cell_type": "code",
   "execution_count": null,
   "metadata": {
    "vscode": {
     "languageId": "shellscript"
    }
   },
   "outputs": [],
   "source": [
    "print(zarr_folders[2])"
   ]
  },
  {
   "cell_type": "code",
   "execution_count": null,
   "metadata": {
    "vscode": {
     "languageId": "shellscript"
    }
   },
   "outputs": [],
   "source": []
  },
  {
   "cell_type": "code",
   "execution_count": null,
   "metadata": {
    "vscode": {
     "languageId": "shellscript"
    }
   },
   "outputs": [],
   "source": []
  },
  {
   "cell_type": "code",
   "execution_count": null,
   "metadata": {
    "vscode": {
     "languageId": "shellscript"
    }
   },
   "outputs": [],
   "source": []
  },
  {
   "cell_type": "code",
   "execution_count": null,
   "metadata": {
    "vscode": {
     "languageId": "shellscript"
    }
   },
   "outputs": [],
   "source": []
  },
  {
   "cell_type": "code",
   "execution_count": null,
   "metadata": {
    "vscode": {
     "languageId": "shellscript"
    }
   },
   "outputs": [],
   "source": []
  },
  {
   "cell_type": "code",
   "execution_count": null,
   "metadata": {},
   "outputs": [],
   "source": [
    "data = np.genfromtxt(\"./jobs/mateusz/hystersisis/out_of_plane.dat\",delimiter=\"\\t\",skip_header=0)\n",
    "print(data[:,0])"
   ]
  },
  {
   "cell_type": "code",
   "execution_count": null,
   "metadata": {
    "vscode": {
     "languageId": "shellscript"
    }
   },
   "outputs": [],
   "source": [
    "job = op(\"/mnt/storage_2/scratch/grant_398/mateuszz/ReCoPt/systematic/v6_new_script/v8/ku:1463327.1/dind:0.001/msat:1337400.0/sim:0_ku:1463327.1_dind:0.001_msat:1337400.0_aex:7e-12.zarr\")\n",
    "b_extz = job.table.B_extz[:]\n",
    "mz = job.table.mz[:]\n"
   ]
  },
  {
   "cell_type": "code",
   "execution_count": null,
   "metadata": {
    "vscode": {
     "languageId": "shellscript"
    }
   },
   "outputs": [],
   "source": [
    "path2=\"/mnt/storage_2/scratch/grant_398/mateuszz/ReCoPt/systematic/v6_new_script/v8/ku:1463327.1/dind:0.002/msat:1337400.0/sim:27_ku:1463327.1_dind:0.002_msat:1337400.0_aex:1.5e-11.zarr\"\n",
    "job2 = op(path2)\n",
    "b_extz2 = job2.table.B_extz[:]\n",
    "mz2 = job2.table.mz[:]\n"
   ]
  },
  {
   "cell_type": "code",
   "execution_count": 4,
   "metadata": {},
   "outputs": [],
   "source": [
    "def find_zarr_folders(base_path):\n",
    "    zarr_folders = []\n",
    "    \n",
    "    # Przechodzenie przez wszystkie ścieżki i foldery w podanej lokalizacji\n",
    "    for root, dirs, files in os.walk(base_path):\n",
    "        for dir in dirs:\n",
    "            # Sprawdzenie, czy nazwa folderu kończy się na .zarr\n",
    "            if dir.endswith('.zarr'):\n",
    "                full_path = os.path.join(root, dir)\n",
    "                zarr_folders.append(full_path)\n",
    "    \n",
    "    return zarr_folders"
   ]
  },
  {
   "cell_type": "code",
   "execution_count": null,
   "metadata": {
    "vscode": {
     "languageId": "shellscript"
    }
   },
   "outputs": [],
   "source": [
    "def process(i):\n",
    "    job2 = op(zarr_folders_found[i])\n",
    "    b_extz2 = job2.table.B_extz[:]\n",
    "    mz2 = job2.table.mz[:]\n",
    "    return b_extz2,mz2"
   ]
  },
  {
   "cell_type": "code",
   "execution_count": null,
   "metadata": {},
   "outputs": [],
   "source": [
    "# Ścieżka bazowa\n",
    "base_path = '/mnt/storage_2/scratch/grant_398/mateuszz/ReCoPt/systematic/v6_new_script/v8/'\n",
    "\n",
    "# Wywołanie funkcji\n",
    "zarr_folders_found = find_zarr_folders(base_path)"
   ]
  },
  {
   "cell_type": "code",
   "execution_count": null,
   "metadata": {},
   "outputs": [],
   "source": [
    "def plot(i):\n",
    "    b_extz2,mz2 = process(i)\n",
    "    plt.clf()\n",
    "    plt.close()\n",
    "    plt.plot(data[:,0],data[:,1])   \n",
    "    plt.plot(b_extz2,mz2)\n",
    "    plt.show()\n",
    "\n",
    "plt.figure()  \n",
    "interact(plot, i=widgets.IntSlider(min=0,max=len(zarr_folders_found)-1,step=1,value=0))"
   ]
  },
  {
   "cell_type": "code",
   "execution_count": null,
   "metadata": {},
   "outputs": [],
   "source": [
    "plt.figure()\n",
    "plt.plot(b_extz[::],mz[::])\n",
    "plt.plot(data[:,0],data[:,1])   \n",
    "\n",
    "plt.plot(b_extz2[::],mz2[::],label=\"m2\")\n",
    "plt.legend()"
   ]
  },
  {
   "cell_type": "code",
   "execution_count": 3,
   "metadata": {
    "vscode": {
     "languageId": "shellscript"
    }
   },
   "outputs": [
    {
     "name": "stdout",
     "output_type": "stream",
     "text": [
      "/usr/bin/zsh: /home/kkingstoun/software/anaconda3/lib/python3.10/site-packages/cv2/../../../../lib/libtinfo.so.6: no version information available (required by /usr/bin/zsh)\n",
      "^C\n"
     ]
    }
   ],
   "source": [
    "!ls /mnt/storage_2/scratch/grant_398/mateuszz/ReCoPt/systematic/v6_new_script/"
   ]
  },
  {
   "cell_type": "code",
   "execution_count": null,
   "metadata": {
    "vscode": {
     "languageId": "shellscript"
    }
   },
   "outputs": [],
   "source": []
  },
  {
   "cell_type": "code",
   "execution_count": 5,
   "metadata": {},
   "outputs": [],
   "source": [
    "p = pp('/mnt/storage_2/scratch/grant_398/mateuszz/ReCoPt/systematic/v6_new_script/v8/')\n",
    "p1 = pp('/mnt/storage_2/scratch/grant_398/mateuszz/ReCoPt/systematic/v6_new_script/v8_extra/')\n",
    "p2 = pp('/mnt/storage_2/scratch/grant_398/mateuszz/ReCoPt/systematic/v6_new_script/v8_high_ku/')\n",
    "p3 = pp('/mnt/storage_2/scratch/grant_398/mateuszz/ReCoPt/systematic/v6_new_script/v8_high_ku_3/')\n",
    "zarr_folders = p3.find_zarr_folders()"
   ]
  },
  {
   "cell_type": "code",
   "execution_count": 6,
   "metadata": {},
   "outputs": [
    {
     "name": "stdout",
     "output_type": "stream",
     "text": [
      "64\n"
     ]
    }
   ],
   "source": [
    "# print(*zarr_folders,sep=\"\\n\")\n",
    "print(len(zarr_folders))"
   ]
  },
  {
   "cell_type": "code",
   "execution_count": 7,
   "metadata": {},
   "outputs": [
    {
     "name": "stderr",
     "output_type": "stream",
     "text": [
      "100%|██████████| 64/64 [00:03<00:00, 18.09it/s]\n"
     ]
    }
   ],
   "source": [
    "class HysteresisData:\n",
    "    def __init__(self, zarr_folders=None, data_file=None):\n",
    "        if data_file:\n",
    "            self.data = pd.read_csv(data_file)\n",
    "        elif zarr_folders:\n",
    "            self.data = self._load_data_from_folders_parallel(zarr_folders)\n",
    "        else:\n",
    "            raise ValueError(\"Either zarr_folders or data_file must be provided\")\n",
    "        self.current_index = 0\n",
    "\n",
    "    def plot_hysteresis(self, sim_number):\n",
    "        # Filtruj dane dla wybranego numeru symulacji\n",
    "        subset = self.data[self.data['sim_number'] == sim_number]\n",
    "\n",
    "        # Tworzenie wykresu\n",
    "        plt.figure(figsize=(8, 6))\n",
    "        plt.plot(subset['B_extz'], subset['mz'])\n",
    "        plt.xlabel('B_extz')\n",
    "        plt.ylabel('mz')\n",
    "        plt.title(f'Hysteresis for simulation number: {sim_number}')\n",
    "        plt.show()\n",
    "\n",
    "    def update_plot(self, direction):\n",
    "        self.current_index += direction\n",
    "        self.current_index = max(0, min(self.current_index, self.data['sim_number'].max()))\n",
    "        self.plot_hysteresis(self.data['sim_number'].unique()[self.current_index])\n",
    "\n",
    "    def interactive_plot(self):\n",
    "        interact(self.update_plot, direction=widgets.IntSlider(min=-1, max=1, step=1, value=0))\n",
    "\n",
    "\n",
    "    def _load_data_from_single_folder(self, folder):\n",
    "            # Tutaj wczytanie danych z pojedynczego folderu .zarr\n",
    "            # Implementacja zależy od struktury danych i formatu plików\n",
    "            # Przykład:\n",
    "            \n",
    "            try:\n",
    "                job = op(folder)\n",
    "                # job.p\n",
    "                mz = job.table.mz[:]\n",
    "                b_extz = job.table.B_extz[:]\n",
    "                if len(mz)>1:\n",
    "                    # Ekstrakcja parametrów\n",
    "                    params = _extract_params(folder)\n",
    "                    # print(params)\n",
    "                    # print(folder)\n",
    "                    # Tworzenie DataFrame z danych\n",
    "                    folder_data = pd.DataFrame({'sim_number': params['sim'], 'KU': params['ku'], 'Aex': params['aex'], 'DMI': params['dind'], \n",
    "                                                'Msat': params['msat'],'B_extz': b_extz, 'mz': mz})\n",
    "                    return folder_data\n",
    "            except:\n",
    "                pass\n",
    "\n",
    "    def _load_data_from_folders_parallel(self, zarr_folders):\n",
    "        with Pool(processes=4) as pool:\n",
    "            # Opakowanie listy folderów w tqdm dla paska postępu\n",
    "            results = list(tqdm(pool.imap(self._load_data_from_single_folder, zarr_folders), \n",
    "                                total=len(zarr_folders)))\n",
    "        return pd.concat(results, ignore_index=True)\n",
    "    \n",
    "    def save_to_csv(self, file_name):\n",
    "        self.data.to_csv(file_name, index=False)\n",
    "\n",
    "    def plot_hysteresis(self, KU, Aex, DMI):\n",
    "        subset = self.data[(self.data['KU'] == KU) & (self.data['Aex'] == Aex) & (self.data['DMI'] == DMI)]\n",
    "        plt.plot(subset['B_extz'], subset['mz'])\n",
    "        plt.xlabel('B_extz')\n",
    "        plt.ylabel('mz')\n",
    "        plt.title(f'Hysteresis for KU: {KU}, Aex: {Aex}, DMI: {DMI}')\n",
    "        plt.show()\n",
    "\n",
    "\n",
    "data = HysteresisData(zarr_folders[:])\n",
    "# data = HysteresisData(data_file='hysteresis_data.csv')\n",
    "\n",
    "# data.save_to_csv('./hysteresis_data.csv')\n",
    "\n",
    "# Zapis danych do pliku CSV\n"
   ]
  },
  {
   "cell_type": "code",
   "execution_count": 8,
   "metadata": {},
   "outputs": [],
   "source": [
    "datastr = \"\"\"0.25\t0.99991\n",
    "0.24\t0.99877\n",
    "0.23\t0.99882\n",
    "0.22\t0.99937\n",
    "0.21\t0.99976\n",
    "0.2\t1\n",
    "0.19\t0.99959\n",
    "0.18\t0.99913\n",
    "0.17\t0.99898\n",
    "0.16\t0.99723\n",
    "0.15\t0.99254\n",
    "0.14\t0.95926\n",
    "0.13\t0.87553\n",
    "0.12\t0.71478\n",
    "0.11\t0.6054\n",
    "0.1\t0.53459\n",
    "0.095\t0.50318\n",
    "0.09\t0.47321\n",
    "0.085\t0.44486\n",
    "0.08\t0.41751\n",
    "0.075\t0.39101\n",
    "0.07\t0.36537\n",
    "0.065\t0.34053\n",
    "0.06\t0.31612\n",
    "0.055\t0.29263\n",
    "0.05\t0.26913\n",
    "0.045\t0.24617\n",
    "0.04\t0.2231\n",
    "0.035\t0.20071\n",
    "0.03\t0.17846\n",
    "0.025\t0.15623\n",
    "0.02\t0.13416\n",
    "0.015\t0.11239\n",
    "0.01\t0.09023\n",
    "0.005\t0.06731\n",
    "0\t0.04517\n",
    "-0.005\t0.02249\n",
    "-0.01\t-0.0022\n",
    "-0.015\t-0.02575\n",
    "-0.02\t-0.04846\n",
    "-0.025\t-0.07299\n",
    "-0.03\t-0.09632\n",
    "-0.035\t-0.11939\n",
    "-0.04\t-0.14206\n",
    "-0.045\t-0.16513\n",
    "-0.05\t-0.18731\n",
    "-0.055\t-0.20944\n",
    "-0.06\t-0.23111\n",
    "-0.065\t-0.25333\n",
    "-0.07\t-0.27505\n",
    "-0.075\t-0.29538\n",
    "-0.08\t-0.31596\n",
    "-0.085\t-0.33765\n",
    "-0.09\t-0.35894\n",
    "-0.095\t-0.37923\n",
    "-0.1\t-0.3998\n",
    "-0.11\t-0.44088\n",
    "-0.12\t-0.4809\n",
    "-0.13\t-0.52288\n",
    "-0.14\t-0.56797\n",
    "-0.15\t-0.61879\n",
    "-0.16\t-0.67529\n",
    "-0.17\t-0.73796\n",
    "-0.18\t-0.80932\n",
    "-0.19\t-0.88443\n",
    "-0.2\t-0.94175\n",
    "-0.21\t-0.9631\n",
    "-0.22\t-0.98136\n",
    "-0.23\t-0.99339\n",
    "-0.24\t-0.99728\n",
    "-0.25\t-0.99772\n",
    "-0.24\t-0.99799\n",
    "-0.23\t-0.99839\n",
    "-0.22\t-0.99843\n",
    "-0.21\t-0.99862\n",
    "-0.2\t-0.99812\n",
    "-0.19\t-0.998\n",
    "-0.18\t-0.99768\n",
    "-0.17\t-1.01956\n",
    "-0.16\t-0.99587\n",
    "-0.15\t-0.99148\n",
    "-0.14\t-0.96124\n",
    "-0.13\t-0.87993\n",
    "-0.12\t-0.72142\n",
    "-0.11\t-0.6088\n",
    "-0.1\t-0.53639\n",
    "-0.095\t-0.50476\n",
    "-0.09\t-0.47458\n",
    "-0.085\t-0.4458\n",
    "-0.08\t-0.41849\n",
    "-0.075\t-0.3924\n",
    "-0.07\t-0.36633\n",
    "-0.065\t-0.34138\n",
    "-0.06\t-0.31727\n",
    "-0.055\t-0.29351\n",
    "-0.05\t-0.26986\n",
    "-0.045\t-0.24681\n",
    "-0.04\t-0.22362\n",
    "-0.035\t-0.20098\n",
    "-0.03\t-0.1787\n",
    "-0.025\t-0.15664\n",
    "-0.02\t-0.13462\n",
    "-0.015\t-0.11276\n",
    "-0.01\t-0.09076\n",
    "-0.005\t-0.06834\n",
    "0\t-0.04574\n",
    "0.005\t-0.02222\n",
    "0.01\t0.00139\n",
    "0.015\t0.0242\n",
    "0.02\t0.04649\n",
    "0.025\t0.07199\n",
    "0.03\t0.09525\n",
    "0.035\t0.11695\n",
    "0.04\t0.14204\n",
    "0.045\t0.16453\n",
    "0.05\t0.18459\n",
    "0.055\t0.20881\n",
    "0.06\t0.23135\n",
    "0.065\t0.2537\n",
    "0.07\t0.27493\n",
    "0.075\t0.2966\n",
    "0.08\t0.31879\n",
    "0.085\t0.33838\n",
    "0.09\t0.35771\n",
    "0.095\t0.37951\n",
    "0.1\t0.4007\n",
    "0.11\t0.44086\n",
    "0.12\t0.48152\n",
    "0.13\t0.52278\n",
    "0.14\t0.56784\n",
    "0.15\t0.61826\n",
    "0.16\t0.67518\n",
    "0.17\t0.73757\n",
    "0.18\t0.80739\n",
    "0.19\t0.88369\n",
    "0.2\t0.94266\n",
    "0.21\t0.963\n",
    "0.22\t0.98294\n",
    "0.23\t0.99546\n",
    "0.24\t0.99753\n",
    "0.25\t0.99881\"\"\""
   ]
  },
  {
   "cell_type": "code",
   "execution_count": 9,
   "metadata": {},
   "outputs": [],
   "source": [
    "from io import StringIO\n",
    "\n",
    "data_file = StringIO(datastr)\n",
    "data_array = np.loadtxt(data_file)\n"
   ]
  },
  {
   "cell_type": "code",
   "execution_count": 10,
   "metadata": {},
   "outputs": [],
   "source": [
    "import os\n",
    "# os.listdir(\"/home/users/kkingstoun/zfn2/mateuszz/ReCoPt\")\n",
    "# exdata = np.genfromtxt(\"/home/users/kkingstoun/zfn2/mateuszz/ReCoPt/out_of_plane.dat\",delimiter=\"\\t\",skip_header=0)\n",
    "exdata=data_array\n",
    "# print(exdata.shape)"
   ]
  },
  {
   "cell_type": "code",
   "execution_count": 11,
   "metadata": {},
   "outputs": [
    {
     "data": {
      "application/vnd.jupyter.widget-view+json": {
       "model_id": "f3fd9329764b493c828ce4ff7b014b9e",
       "version_major": 2,
       "version_minor": 0
      },
      "text/plain": [
       "interactive(children=(IntSlider(value=0, description='direction', max=59), Output()), _dom_classes=('widget-in…"
      ]
     },
     "metadata": {},
     "output_type": "display_data"
    },
    {
     "data": {
      "application/vnd.jupyter.widget-view+json": {
       "model_id": "fee9994c8a0843a9bbddbdc53a7a1417",
       "version_major": 2,
       "version_minor": 0
      },
      "image/png": "[encoded data removed]",
      "text/html": [
       "\n",
       "            <div style=\"display: inline-block;\">\n",
       "                <div class=\"jupyter-widgets widget-label\" style=\"text-align: center;\">\n",
       "                    Figure\n",
       "                </div>\n",
       "                <img src='data:image/png;base64,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' width=800.0/>\n",
       "            </div>\n",
       "        "
      ],
      "text/plain": [
       "Canvas(header_visible=True, toolbar=Toolbar(toolitems=[('Home', 'Reset original view', 'home', 'home'), ('Back…"
      ]
     },
     "metadata": {},
     "output_type": "display_data"
    }
   ],
   "source": [
    "class HysteresisPlotter:\n",
    "    def __init__(self, data, exdata,i=0):\n",
    "        self.data = data\n",
    "        self.exdata = exdata\n",
    "        self.current_index = 0\n",
    "        self.fig, self.ax = plt.subplots(figsize=(8, 6))\n",
    "\n",
    "        self.t1 =self.ax.text(0.1, 0.0, \"ABECADLO \", verticalalignment='center', horizontalalignment='left')\n",
    "        # Aktualizacja parametrów w ramce\n",
    "        # self.anch = anchored_text = AnchoredText(\"Test\", loc=2)\n",
    "        # self.ax.add_artist(anchored_text)\n",
    "        # self.anch.set()\n",
    "        self.plot_hysteresis(i)\n",
    "        self.plot_extra_data()  # Rysowanie stałego wykresu\n",
    "\n",
    "    def plot_extra_data(self):\n",
    "        # Rysowanie dodatkowego wykresu\n",
    "        y = self.exdata[:,1] / self.exdata[:,1].max()\n",
    "        self.ax.plot(self.exdata[:,0], y, label='Experiment out-of-plane')\n",
    "\n",
    "    def plot_hysteresis(self, sim_number):\n",
    "        # Filtruj dane dla wybranego numeru symulacji\n",
    "        subset = self.data[self.data['sim_number'] == sim_number]\n",
    "\n",
    "        # Tworzenie wykresu histerezy\n",
    "        self.plot1, = self.ax.plot(subset['B_extz'][::], subset['mz'][::], label='Simulations')\n",
    "        self.ax.set_xlabel('B_extz')\n",
    "        self.ax.set_ylabel('mz')\n",
    "                \n",
    "        # Rysowanie ponownie stałego wykresu\n",
    "        self.plot_extra_data()\n",
    "\n",
    "        # Dodanie legendy\n",
    "        self.ax.legend()\n",
    "\n",
    "        # Aktualizacja parametrów w ramce\n",
    "        self.update_params_inset(subset)\n",
    "\n",
    "        # Wyświetlanie wykresu\n",
    "        self.fig.canvas.draw()\n",
    "\n",
    "    def update_params_inset(self, subset):\n",
    "        # Dodanie parametrów do ramki\n",
    "        try:\n",
    "            params_text = '\\n'.join([f'{key}: {round(value,14)}' for key, value in list(subset.iloc[0].to_dict().items())[:-2]])\n",
    "            self.t1.set_text(params_text)\n",
    "        except:\n",
    "            self.t1.set_text(\"\")\n",
    "        # self.inset.text(0, 0.5, params_text, verticalalignment='center', horizontalalignment='left')\n",
    "\n",
    "    def update_plot(self, direction):\n",
    "        subset = self.data[self.data['sim_number'] == direction]\n",
    "\n",
    "        mz = subset['mz'][::]\n",
    "        bz = subset['B_extz'][::]\n",
    "        \n",
    "        mz_rev = mz*-1\n",
    "        bz_rev = bz*-1   \n",
    "        \n",
    "        mz2 = np.concatenate((mz_rev,mz))\n",
    "        bz2 = np.concatenate((bz_rev,bz))\n",
    "        \n",
    "        self.plot1.set_ydata(mz)\n",
    "        self.plot1.set_xdata(bz)\n",
    "        \n",
    "        # self.plot1.set_ydata(subset['mz'][::])\n",
    "        # self.plot1.set_xdata(subset['B_extz'][::])\n",
    "\n",
    "        # Aktualizacja parametrów w ramce\n",
    "        self.update_params_inset(subset)\n",
    "\n",
    "        self.fig.canvas.draw()\n",
    "        self.fig.canvas.flush_events()\n",
    "        \n",
    "    def save_all_figs(self):\n",
    "        for i in tqdm(range(self.data['sim_number'].max())[4:]):\n",
    "            self.update_plot(i)\n",
    "            plt.savefig(f\"./results2/{i}.png\")\n",
    "\n",
    "    def interactive_plot(self):\n",
    "        interact(self.update_plot, direction=widgets.IntSlider(min=0, max=self.data['sim_number'].max(), step=1, value=0))\n",
    "%matplotlib widget\n",
    "plotter = HysteresisPlotter(data.data, exdata)\n",
    "plotter.interactive_plot()\n"
   ]
  },
  {
   "cell_type": "code",
   "execution_count": null,
   "metadata": {},
   "outputs": [],
   "source": [
    "plotter = HysteresisPlotter(data.data, exdata)\n",
    "plotter.interactive_plot()"
   ]
  },
  {
   "cell_type": "code",
   "execution_count": 24,
   "metadata": {
    "vscode": {
     "languageId": "shellscript"
    }
   },
   "outputs": [
    {
     "name": "stdout",
     "output_type": "stream",
     "text": [
      "Anisotropy parameter Q: 0.0009288668287043046\n"
     ]
    }
   ],
   "source": [
    "def calculate_anisotropy_parameter(K_u, M_s):\n",
    "    \"\"\"\n",
    "    Calculate the anisotropy parameter Q for determining the orientation of magnetization.\n",
    "\n",
    "    Parameters:\n",
    "    K_u (float): Uniaxial anisotropy constant (J/m^3).\n",
    "    M_s (float): Saturation magnetization (A/m).\n",
    "\n",
    "    Returns:\n",
    "    float: Anisotropy parameter Q.\n",
    "    \"\"\"\n",
    "    mu_0 = 4 * 3.141592653589793 * 1e-7  # Magnetic constant (T·m/A or N·A^-2)\n",
    "\n",
    "    if M_s == 0:\n",
    "        raise ValueError(\"Saturation magnetization M_s must be non-zero.\")\n",
    "\n",
    "    Q = (2 * K_u) / (mu_0 * M_s**2)\n",
    "    return Q\n",
    "\n",
    "\n",
    "\n",
    "# Example usage\n",
    "K = 1125#  Example value for anisotropy constant in J/m^3\n",
    "M_s = 1388384 # Example value for saturation magnetization in A/m\n",
    "\n",
    "Q = calculate_anisotropy_parameter(K, M_s)\n",
    "print(\"Anisotropy parameter Q:\", Q)"
   ]
  },
  {
   "cell_type": "code",
   "execution_count": 31,
   "metadata": {
    "vscode": {
     "languageId": "shellscript"
    }
   },
   "outputs": [],
   "source": [
    "job = op(\"/mnt/storage_2/scratch/grant_398/mateuszz/ReCoPt/systematic/v6_new_script/v8_high_ku_3/ku:1755992.52/dind:0.003/msat:1337400.0/sim35_V2_in_plane_backup.zarr\")"
   ]
  },
  {
   "cell_type": "code",
   "execution_count": 32,
   "metadata": {
    "vscode": {
     "languageId": "shellscript"
    }
   },
   "outputs": [
    {
     "ename": "JSONDecodeError",
     "evalue": "Expecting value: line 1 column 1 (char 0)",
     "output_type": "error",
     "traceback": [
      "\u001b[0;31m---------------------------------------------------------------------------\u001b[0m",
      "\u001b[0;31mJSONDecodeError\u001b[0m                           Traceback (most recent call last)",
      "Cell \u001b[0;32mIn[32], line 1\u001b[0m\n\u001b[0;32m----> 1\u001b[0m x \u001b[39m=\u001b[39m job\u001b[39m.\u001b[39;49mtable\u001b[39m.\u001b[39;49mB_extz[:]\n\u001b[1;32m      2\u001b[0m y \u001b[39m=\u001b[39m job\u001b[39m.\u001b[39mtable\u001b[39m.\u001b[39mmx[:]\n",
      "File \u001b[0;32m/home/users/kkingstoun/software/miniconda3.11/lib/python3.11/site-packages/zarr/hierarchy.py:520\u001b[0m, in \u001b[0;36mGroup.__getattr__\u001b[0;34m(self, item)\u001b[0m\n\u001b[1;32m    517\u001b[0m \u001b[39mdef\u001b[39;00m \u001b[39m__getattr__\u001b[39m(\u001b[39mself\u001b[39m, item):\n\u001b[1;32m    518\u001b[0m     \u001b[39m# allow access to group members via dot notation\u001b[39;00m\n\u001b[1;32m    519\u001b[0m     \u001b[39mtry\u001b[39;00m:\n\u001b[0;32m--> 520\u001b[0m         \u001b[39mreturn\u001b[39;00m \u001b[39mself\u001b[39;49m\u001b[39m.\u001b[39;49m\u001b[39m__getitem__\u001b[39;49m(item)\n\u001b[1;32m    521\u001b[0m     \u001b[39mexcept\u001b[39;00m \u001b[39mKeyError\u001b[39;00m:\n\u001b[1;32m    522\u001b[0m         \u001b[39mraise\u001b[39;00m \u001b[39mAttributeError\u001b[39;00m\n",
      "File \u001b[0;32m/home/users/kkingstoun/software/miniconda3.11/lib/python3.11/site-packages/zarr/hierarchy.py:462\u001b[0m, in \u001b[0;36mGroup.__getitem__\u001b[0;34m(self, item)\u001b[0m\n\u001b[1;32m    460\u001b[0m path \u001b[39m=\u001b[39m \u001b[39mself\u001b[39m\u001b[39m.\u001b[39m_item_path(item)\n\u001b[1;32m    461\u001b[0m \u001b[39mif\u001b[39;00m contains_array(\u001b[39mself\u001b[39m\u001b[39m.\u001b[39m_store, path):\n\u001b[0;32m--> 462\u001b[0m     \u001b[39mreturn\u001b[39;00m Array(\n\u001b[1;32m    463\u001b[0m         \u001b[39mself\u001b[39;49m\u001b[39m.\u001b[39;49m_store,\n\u001b[1;32m    464\u001b[0m         read_only\u001b[39m=\u001b[39;49m\u001b[39mself\u001b[39;49m\u001b[39m.\u001b[39;49m_read_only,\n\u001b[1;32m    465\u001b[0m         path\u001b[39m=\u001b[39;49mpath,\n\u001b[1;32m    466\u001b[0m         chunk_store\u001b[39m=\u001b[39;49m\u001b[39mself\u001b[39;49m\u001b[39m.\u001b[39;49m_chunk_store,\n\u001b[1;32m    467\u001b[0m         synchronizer\u001b[39m=\u001b[39;49m\u001b[39mself\u001b[39;49m\u001b[39m.\u001b[39;49m_synchronizer,\n\u001b[1;32m    468\u001b[0m         cache_attrs\u001b[39m=\u001b[39;49m\u001b[39mself\u001b[39;49m\u001b[39m.\u001b[39;49mattrs\u001b[39m.\u001b[39;49mcache,\n\u001b[1;32m    469\u001b[0m         zarr_version\u001b[39m=\u001b[39;49m\u001b[39mself\u001b[39;49m\u001b[39m.\u001b[39;49m_version,\n\u001b[1;32m    470\u001b[0m         meta_array\u001b[39m=\u001b[39;49m\u001b[39mself\u001b[39;49m\u001b[39m.\u001b[39;49m_meta_array,\n\u001b[1;32m    471\u001b[0m     )\n\u001b[1;32m    472\u001b[0m \u001b[39melif\u001b[39;00m contains_group(\u001b[39mself\u001b[39m\u001b[39m.\u001b[39m_store, path, explicit_only\u001b[39m=\u001b[39m\u001b[39mTrue\u001b[39;00m):\n\u001b[1;32m    473\u001b[0m     \u001b[39mreturn\u001b[39;00m Group(\n\u001b[1;32m    474\u001b[0m         \u001b[39mself\u001b[39m\u001b[39m.\u001b[39m_store,\n\u001b[1;32m    475\u001b[0m         read_only\u001b[39m=\u001b[39m\u001b[39mself\u001b[39m\u001b[39m.\u001b[39m_read_only,\n\u001b[0;32m   (...)\u001b[0m\n\u001b[1;32m    481\u001b[0m         meta_array\u001b[39m=\u001b[39m\u001b[39mself\u001b[39m\u001b[39m.\u001b[39m_meta_array,\n\u001b[1;32m    482\u001b[0m     )\n",
      "File \u001b[0;32m/home/users/kkingstoun/software/miniconda3.11/lib/python3.11/site-packages/zarr/core.py:224\u001b[0m, in \u001b[0;36mArray.__init__\u001b[0;34m(self, store, path, read_only, chunk_store, synchronizer, cache_metadata, cache_attrs, partial_decompress, write_empty_chunks, zarr_version, meta_array)\u001b[0m\n\u001b[1;32m    221\u001b[0m     \u001b[39mself\u001b[39m\u001b[39m.\u001b[39m_metadata_key_suffix \u001b[39m=\u001b[39m \u001b[39mself\u001b[39m\u001b[39m.\u001b[39m_hierarchy_metadata[\u001b[39m\"\u001b[39m\u001b[39mmetadata_key_suffix\u001b[39m\u001b[39m\"\u001b[39m]\n\u001b[1;32m    223\u001b[0m \u001b[39m# initialize metadata\u001b[39;00m\n\u001b[0;32m--> 224\u001b[0m \u001b[39mself\u001b[39;49m\u001b[39m.\u001b[39;49m_load_metadata()\n\u001b[1;32m    226\u001b[0m \u001b[39m# initialize attributes\u001b[39;00m\n\u001b[1;32m    227\u001b[0m akey \u001b[39m=\u001b[39m _prefix_to_attrs_key(\u001b[39mself\u001b[39m\u001b[39m.\u001b[39m_store, \u001b[39mself\u001b[39m\u001b[39m.\u001b[39m_key_prefix)\n",
      "File \u001b[0;32m/home/users/kkingstoun/software/miniconda3.11/lib/python3.11/site-packages/zarr/core.py:243\u001b[0m, in \u001b[0;36mArray._load_metadata\u001b[0;34m(self)\u001b[0m\n\u001b[1;32m    241\u001b[0m \u001b[39m\u001b[39m\u001b[39m\"\"\"(Re)load metadata from store.\"\"\"\u001b[39;00m\n\u001b[1;32m    242\u001b[0m \u001b[39mif\u001b[39;00m \u001b[39mself\u001b[39m\u001b[39m.\u001b[39m_synchronizer \u001b[39mis\u001b[39;00m \u001b[39mNone\u001b[39;00m:\n\u001b[0;32m--> 243\u001b[0m     \u001b[39mself\u001b[39;49m\u001b[39m.\u001b[39;49m_load_metadata_nosync()\n\u001b[1;32m    244\u001b[0m \u001b[39melse\u001b[39;00m:\n\u001b[1;32m    245\u001b[0m     mkey \u001b[39m=\u001b[39m _prefix_to_array_key(\u001b[39mself\u001b[39m\u001b[39m.\u001b[39m_store, \u001b[39mself\u001b[39m\u001b[39m.\u001b[39m_key_prefix)\n",
      "File \u001b[0;32m/home/users/kkingstoun/software/miniconda3.11/lib/python3.11/site-packages/zarr/core.py:258\u001b[0m, in \u001b[0;36mArray._load_metadata_nosync\u001b[0;34m(self)\u001b[0m\n\u001b[1;32m    254\u001b[0m     \u001b[39mraise\u001b[39;00m ArrayNotFoundError(\u001b[39mself\u001b[39m\u001b[39m.\u001b[39m_path)\n\u001b[1;32m    255\u001b[0m \u001b[39melse\u001b[39;00m:\n\u001b[1;32m    256\u001b[0m \n\u001b[1;32m    257\u001b[0m     \u001b[39m# decode and store metadata as instance members\u001b[39;00m\n\u001b[0;32m--> 258\u001b[0m     meta \u001b[39m=\u001b[39m \u001b[39mself\u001b[39;49m\u001b[39m.\u001b[39;49m_store\u001b[39m.\u001b[39;49m_metadata_class\u001b[39m.\u001b[39;49mdecode_array_metadata(meta_bytes)\n\u001b[1;32m    259\u001b[0m     \u001b[39mself\u001b[39m\u001b[39m.\u001b[39m_meta \u001b[39m=\u001b[39m meta\n\u001b[1;32m    260\u001b[0m     \u001b[39mself\u001b[39m\u001b[39m.\u001b[39m_shape \u001b[39m=\u001b[39m meta[\u001b[39m\"\u001b[39m\u001b[39mshape\u001b[39m\u001b[39m\"\u001b[39m]\n",
      "File \u001b[0;32m/home/users/kkingstoun/software/miniconda3.11/lib/python3.11/site-packages/zarr/meta.py:110\u001b[0m, in \u001b[0;36mMetadata2.decode_array_metadata\u001b[0;34m(cls, s)\u001b[0m\n\u001b[1;32m    108\u001b[0m \u001b[39m@classmethod\u001b[39m\n\u001b[1;32m    109\u001b[0m \u001b[39mdef\u001b[39;00m \u001b[39mdecode_array_metadata\u001b[39m(\u001b[39mcls\u001b[39m, s: Union[MappingType, \u001b[39mbytes\u001b[39m, \u001b[39mstr\u001b[39m]) \u001b[39m-\u001b[39m\u001b[39m>\u001b[39m MappingType[\u001b[39mstr\u001b[39m, Any]:\n\u001b[0;32m--> 110\u001b[0m     meta \u001b[39m=\u001b[39m \u001b[39mcls\u001b[39;49m\u001b[39m.\u001b[39;49mparse_metadata(s)\n\u001b[1;32m    112\u001b[0m     \u001b[39m# check metadata format\u001b[39;00m\n\u001b[1;32m    113\u001b[0m     zarr_format \u001b[39m=\u001b[39m meta\u001b[39m.\u001b[39mget(\u001b[39m\"\u001b[39m\u001b[39mzarr_format\u001b[39m\u001b[39m\"\u001b[39m, \u001b[39mNone\u001b[39;00m)\n",
      "File \u001b[0;32m/home/users/kkingstoun/software/miniconda3.11/lib/python3.11/site-packages/zarr/meta.py:104\u001b[0m, in \u001b[0;36mMetadata2.parse_metadata\u001b[0;34m(cls, s)\u001b[0m\n\u001b[1;32m    100\u001b[0m     meta \u001b[39m=\u001b[39m s\n\u001b[1;32m    102\u001b[0m \u001b[39melse\u001b[39;00m:\n\u001b[1;32m    103\u001b[0m     \u001b[39m# assume metadata needs to be parsed as JSON\u001b[39;00m\n\u001b[0;32m--> 104\u001b[0m     meta \u001b[39m=\u001b[39m json_loads(s)\n\u001b[1;32m    106\u001b[0m \u001b[39mreturn\u001b[39;00m meta\n",
      "File \u001b[0;32m/home/users/kkingstoun/software/miniconda3.11/lib/python3.11/site-packages/zarr/util.py:75\u001b[0m, in \u001b[0;36mjson_loads\u001b[0;34m(s)\u001b[0m\n\u001b[1;32m     73\u001b[0m \u001b[39mdef\u001b[39;00m \u001b[39mjson_loads\u001b[39m(s: Union[\u001b[39mbytes\u001b[39m, \u001b[39mstr\u001b[39m]) \u001b[39m-\u001b[39m\u001b[39m>\u001b[39m Dict[\u001b[39mstr\u001b[39m, Any]:\n\u001b[1;32m     74\u001b[0m \u001b[39m    \u001b[39m\u001b[39m\"\"\"Read JSON in a consistent way.\"\"\"\u001b[39;00m\n\u001b[0;32m---> 75\u001b[0m     \u001b[39mreturn\u001b[39;00m json\u001b[39m.\u001b[39;49mloads(ensure_text(s, \u001b[39m\"\u001b[39;49m\u001b[39mutf-8\u001b[39;49m\u001b[39m\"\u001b[39;49m))\n",
      "File \u001b[0;32m/home/users/kkingstoun/software/miniconda3.11/lib/python3.11/json/__init__.py:346\u001b[0m, in \u001b[0;36mloads\u001b[0;34m(s, cls, object_hook, parse_float, parse_int, parse_constant, object_pairs_hook, **kw)\u001b[0m\n\u001b[1;32m    341\u001b[0m     s \u001b[39m=\u001b[39m s\u001b[39m.\u001b[39mdecode(detect_encoding(s), \u001b[39m'\u001b[39m\u001b[39msurrogatepass\u001b[39m\u001b[39m'\u001b[39m)\n\u001b[1;32m    343\u001b[0m \u001b[39mif\u001b[39;00m (\u001b[39mcls\u001b[39m \u001b[39mis\u001b[39;00m \u001b[39mNone\u001b[39;00m \u001b[39mand\u001b[39;00m object_hook \u001b[39mis\u001b[39;00m \u001b[39mNone\u001b[39;00m \u001b[39mand\u001b[39;00m\n\u001b[1;32m    344\u001b[0m         parse_int \u001b[39mis\u001b[39;00m \u001b[39mNone\u001b[39;00m \u001b[39mand\u001b[39;00m parse_float \u001b[39mis\u001b[39;00m \u001b[39mNone\u001b[39;00m \u001b[39mand\u001b[39;00m\n\u001b[1;32m    345\u001b[0m         parse_constant \u001b[39mis\u001b[39;00m \u001b[39mNone\u001b[39;00m \u001b[39mand\u001b[39;00m object_pairs_hook \u001b[39mis\u001b[39;00m \u001b[39mNone\u001b[39;00m \u001b[39mand\u001b[39;00m \u001b[39mnot\u001b[39;00m kw):\n\u001b[0;32m--> 346\u001b[0m     \u001b[39mreturn\u001b[39;00m _default_decoder\u001b[39m.\u001b[39;49mdecode(s)\n\u001b[1;32m    347\u001b[0m \u001b[39mif\u001b[39;00m \u001b[39mcls\u001b[39m \u001b[39mis\u001b[39;00m \u001b[39mNone\u001b[39;00m:\n\u001b[1;32m    348\u001b[0m     \u001b[39mcls\u001b[39m \u001b[39m=\u001b[39m JSONDecoder\n",
      "File \u001b[0;32m/home/users/kkingstoun/software/miniconda3.11/lib/python3.11/json/decoder.py:337\u001b[0m, in \u001b[0;36mJSONDecoder.decode\u001b[0;34m(self, s, _w)\u001b[0m\n\u001b[1;32m    332\u001b[0m \u001b[39mdef\u001b[39;00m \u001b[39mdecode\u001b[39m(\u001b[39mself\u001b[39m, s, _w\u001b[39m=\u001b[39mWHITESPACE\u001b[39m.\u001b[39mmatch):\n\u001b[1;32m    333\u001b[0m \u001b[39m    \u001b[39m\u001b[39m\"\"\"Return the Python representation of ``s`` (a ``str`` instance\u001b[39;00m\n\u001b[1;32m    334\u001b[0m \u001b[39m    containing a JSON document).\u001b[39;00m\n\u001b[1;32m    335\u001b[0m \n\u001b[1;32m    336\u001b[0m \u001b[39m    \"\"\"\u001b[39;00m\n\u001b[0;32m--> 337\u001b[0m     obj, end \u001b[39m=\u001b[39m \u001b[39mself\u001b[39;49m\u001b[39m.\u001b[39;49mraw_decode(s, idx\u001b[39m=\u001b[39;49m_w(s, \u001b[39m0\u001b[39;49m)\u001b[39m.\u001b[39;49mend())\n\u001b[1;32m    338\u001b[0m     end \u001b[39m=\u001b[39m _w(s, end)\u001b[39m.\u001b[39mend()\n\u001b[1;32m    339\u001b[0m     \u001b[39mif\u001b[39;00m end \u001b[39m!=\u001b[39m \u001b[39mlen\u001b[39m(s):\n",
      "File \u001b[0;32m/home/users/kkingstoun/software/miniconda3.11/lib/python3.11/json/decoder.py:355\u001b[0m, in \u001b[0;36mJSONDecoder.raw_decode\u001b[0;34m(self, s, idx)\u001b[0m\n\u001b[1;32m    353\u001b[0m     obj, end \u001b[39m=\u001b[39m \u001b[39mself\u001b[39m\u001b[39m.\u001b[39mscan_once(s, idx)\n\u001b[1;32m    354\u001b[0m \u001b[39mexcept\u001b[39;00m \u001b[39mStopIteration\u001b[39;00m \u001b[39mas\u001b[39;00m err:\n\u001b[0;32m--> 355\u001b[0m     \u001b[39mraise\u001b[39;00m JSONDecodeError(\u001b[39m\"\u001b[39m\u001b[39mExpecting value\u001b[39m\u001b[39m\"\u001b[39m, s, err\u001b[39m.\u001b[39mvalue) \u001b[39mfrom\u001b[39;00m \u001b[39mNone\u001b[39;00m\n\u001b[1;32m    356\u001b[0m \u001b[39mreturn\u001b[39;00m obj, end\n",
      "\u001b[0;31mJSONDecodeError\u001b[0m: Expecting value: line 1 column 1 (char 0)"
     ]
    }
   ],
   "source": [
    "x = job.table.B_extz[:]\n",
    "y = job.table.mx[:]"
   ]
  },
  {
   "cell_type": "code",
   "execution_count": null,
   "metadata": {
    "vscode": {
     "languageId": "shellscript"
    }
   },
   "outputs": [
    {
     "data": {
      "text/plain": [
       "[<matplotlib.lines.Line2D at 0x2aaedaa04290>]"
      ]
     },
     "execution_count": 30,
     "metadata": {},
     "output_type": "execute_result"
    },
    {
     "data": {
      "application/vnd.jupyter.widget-view+json": {
       "model_id": "42820563b52647c0a3baaf77d892de5f",
       "version_major": 2,
       "version_minor": 0
      },
      "image/png": "[encoded data removed]",
      "text/html": [
       "\n",
       "            <div style=\"display: inline-block;\">\n",
       "                <div class=\"jupyter-widgets widget-label\" style=\"text-align: center;\">\n",
       "                    Figure\n",
       "                </div>\n",
       "                <img src='data:image/png;base64,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' width=1000.0/>\n",
       "            </div>\n",
       "        "
      ],
      "text/plain": [
       "Canvas(header_visible=True, toolbar=Toolbar(toolitems=[('Home', 'Reset original view', 'home', 'home'), ('Back…"
      ]
     },
     "metadata": {},
     "output_type": "display_data"
    }
   ],
   "source": [
    "plt.figure()\n",
    "plt.plot(x,y)"
   ]
  },
  {
   "cell_type": "code",
   "execution_count": null,
   "metadata": {
    "vscode": {
     "languageId": "shellscript"
    }
   },
   "outputs": [],
   "source": []
  }
 ],
 "metadata": {
  "kernelspec": {
   "display_name": "base",
   "language": "python",
   "name": "python3"
  },
  "language_info": {
   "codemirror_mode": {
    "name": "ipython",
    "version": 3
   },
   "file_extension": ".py",
   "mimetype": "text/x-python",
   "name": "python",
   "nbconvert_exporter": "python",
   "pygments_lexer": "ipython3",
   "version": "3.10.13"
  },
  "orig_nbformat": 4
 },
 "nbformat": 4,
 "nbformat_minor": 2
}
